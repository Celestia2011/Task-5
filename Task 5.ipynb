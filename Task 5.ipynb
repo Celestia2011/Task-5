{
 "cells": [
  {
   "cell_type": "code",
   "execution_count": 3,
   "id": "d1cc0a89-dfa3-46ab-bec5-a209c6359c19",
   "metadata": {},
   "outputs": [
    {
     "name": "stderr",
     "output_type": "stream",
     "text": [
      "C:\\Users\\bhomi\\anaconda3\\Lib\\site-packages\\sklearn\\ensemble\\_weight_boosting.py:519: FutureWarning: The SAMME.R algorithm (the default) is deprecated and will be removed in 1.6. Use the SAMME algorithm to circumvent this warning.\n",
      "  warnings.warn(\n",
      "C:\\Users\\bhomi\\anaconda3\\Lib\\site-packages\\sklearn\\ensemble\\_weight_boosting.py:519: FutureWarning: The SAMME.R algorithm (the default) is deprecated and will be removed in 1.6. Use the SAMME algorithm to circumvent this warning.\n",
      "  warnings.warn(\n",
      "C:\\Users\\bhomi\\anaconda3\\Lib\\site-packages\\sklearn\\ensemble\\_weight_boosting.py:519: FutureWarning: The SAMME.R algorithm (the default) is deprecated and will be removed in 1.6. Use the SAMME algorithm to circumvent this warning.\n",
      "  warnings.warn(\n",
      "C:\\Users\\bhomi\\anaconda3\\Lib\\site-packages\\sklearn\\ensemble\\_weight_boosting.py:519: FutureWarning: The SAMME.R algorithm (the default) is deprecated and will be removed in 1.6. Use the SAMME algorithm to circumvent this warning.\n",
      "  warnings.warn(\n"
     ]
    },
    {
     "name": "stdout",
     "output_type": "stream",
     "text": [
      "         Model  Weak Learners  Accuracy\n",
      "Decision Stump              1  0.609050\n",
      "      AdaBoost              1  0.609050\n",
      "      AdaBoost              2  0.622837\n",
      "      AdaBoost              3  0.622837\n",
      "      AdaBoost             10  0.673637\n"
     ]
    }
   ],
   "source": [
    "import pandas as pd\n",
    "import numpy as np\n",
    "from sklearn.model_selection import train_test_split\n",
    "from sklearn.tree import DecisionTreeClassifier\n",
    "from sklearn.ensemble import AdaBoostClassifier\n",
    "from sklearn.metrics import accuracy_score, classification_report\n",
    "\n",
    "# Load the data\n",
    "data = pd.read_csv('mushroom.csv')\n",
    "\n",
    "# Separate features and target\n",
    "X = data.drop('class', axis=1)\n",
    "y = data['class']\n",
    "\n",
    "# Split the data\n",
    "X_train, X_test, y_train, y_test = train_test_split(X, y, test_size=0.2, random_state=42)\n",
    "\n",
    "def train_and_evaluate(model, X_train, X_test, y_train, y_test):\n",
    "    model.fit(X_train, y_train)\n",
    "    y_pred = model.predict(X_test)\n",
    "    accuracy = accuracy_score(y_test, y_pred)\n",
    "    return accuracy\n",
    "\n",
    "# Task A.1: Decision Stump\n",
    "stump = DecisionTreeClassifier(max_depth=1, random_state=42)\n",
    "stump_accuracy = train_and_evaluate(stump, X_train, X_test, y_train, y_test)\n",
    "\n",
    "# Task A.2-5: AdaBoost with different numbers of weak learners\n",
    "adaboost_results = []\n",
    "for n_estimators in [1, 2, 3, 10]:  # 10 is our choice for 'n'\n",
    "    adaboost = AdaBoostClassifier(estimator=DecisionTreeClassifier(max_depth=1),\n",
    "                              n_estimators=n_estimators, random_state=42)\n",
    "    accuracy = train_and_evaluate(adaboost, X_train, X_test, y_train, y_test)\n",
    "    adaboost_results.append((n_estimators, accuracy))\n",
    "\n",
    "# Task A.6: Summarize results\n",
    "results = pd.DataFrame([\n",
    "    {'Model': 'Decision Stump', 'Weak Learners': 1, 'Accuracy': stump_accuracy}\n",
    "] + [\n",
    "    {'Model': 'AdaBoost', 'Weak Learners': n, 'Accuracy': acc}\n",
    "    for n, acc in adaboost_results\n",
    "])\n",
    "\n",
    "print(results.to_string(index=False))"
   ]
  },
  {
   "cell_type": "code",
   "execution_count": null,
   "id": "0c38e947-6d71-4836-b148-3838468eabbf",
   "metadata": {},
   "outputs": [],
   "source": []
  }
 ],
 "metadata": {
  "kernelspec": {
   "display_name": "Python 3 (ipykernel)",
   "language": "python",
   "name": "python3"
  },
  "language_info": {
   "codemirror_mode": {
    "name": "ipython",
    "version": 3
   },
   "file_extension": ".py",
   "mimetype": "text/x-python",
   "name": "python",
   "nbconvert_exporter": "python",
   "pygments_lexer": "ipython3",
   "version": "3.12.4"
  }
 },
 "nbformat": 4,
 "nbformat_minor": 5
}
